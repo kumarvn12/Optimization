{
 "cells": [
  {
   "cell_type": "code",
   "execution_count": 1,
   "metadata": {},
   "outputs": [],
   "source": [
    "from pulp import *\n",
    "import pandas as pd"
   ]
  },
  {
   "cell_type": "code",
   "execution_count": 2,
   "metadata": {},
   "outputs": [],
   "source": [
    "import os\n",
    "os.chdir('C:\\\\Users\\\\varun\\\\Desktop\\\\GTA\\\\ISYE6501\\\\week 12 - optimization pulp Mcnemar')"
   ]
  },
  {
   "cell_type": "markdown",
   "metadata": {},
   "source": [
    "### instantiate a problem class, name it “linearDiet” and we’re looking for an optimal minium cost so we use LpMinimize"
   ]
  },
  {
   "cell_type": "code",
   "execution_count": 3,
   "metadata": {},
   "outputs": [],
   "source": [
    "prob = LpProblem(\"linearDiet\", LpMinimize)"
   ]
  },
  {
   "cell_type": "code",
   "execution_count": 4,
   "metadata": {},
   "outputs": [
    {
     "data": {
      "text/html": [
       "<div>\n",
       "<style scoped>\n",
       "    .dataframe tbody tr th:only-of-type {\n",
       "        vertical-align: middle;\n",
       "    }\n",
       "\n",
       "    .dataframe tbody tr th {\n",
       "        vertical-align: top;\n",
       "    }\n",
       "\n",
       "    .dataframe thead th {\n",
       "        text-align: right;\n",
       "    }\n",
       "</style>\n",
       "<table border=\"1\" class=\"dataframe\">\n",
       "  <thead>\n",
       "    <tr style=\"text-align: right;\">\n",
       "      <th></th>\n",
       "      <th>Foods</th>\n",
       "      <th>Price/ Serving</th>\n",
       "      <th>Serving Size</th>\n",
       "      <th>Calories</th>\n",
       "      <th>Cholesterol mg</th>\n",
       "      <th>Total_Fat g</th>\n",
       "      <th>Sodium mg</th>\n",
       "      <th>Carbohydrates g</th>\n",
       "      <th>Dietary_Fiber g</th>\n",
       "      <th>Protein g</th>\n",
       "      <th>Vit_A IU</th>\n",
       "      <th>Vit_C IU</th>\n",
       "      <th>Calcium mg</th>\n",
       "      <th>Iron mg</th>\n",
       "    </tr>\n",
       "  </thead>\n",
       "  <tbody>\n",
       "    <tr>\n",
       "      <th>0</th>\n",
       "      <td>Frozen Broccoli</td>\n",
       "      <td>0.16</td>\n",
       "      <td>10 Oz Pkg</td>\n",
       "      <td>73.8</td>\n",
       "      <td>0.0</td>\n",
       "      <td>0.8</td>\n",
       "      <td>68.2</td>\n",
       "      <td>13.6</td>\n",
       "      <td>8.5</td>\n",
       "      <td>8.0</td>\n",
       "      <td>5867.4</td>\n",
       "      <td>160.2</td>\n",
       "      <td>159.0</td>\n",
       "      <td>2.3</td>\n",
       "    </tr>\n",
       "    <tr>\n",
       "      <th>1</th>\n",
       "      <td>Carrots,Raw</td>\n",
       "      <td>0.07</td>\n",
       "      <td>1/2 Cup Shredded</td>\n",
       "      <td>23.7</td>\n",
       "      <td>0.0</td>\n",
       "      <td>0.1</td>\n",
       "      <td>19.2</td>\n",
       "      <td>5.6</td>\n",
       "      <td>1.6</td>\n",
       "      <td>0.6</td>\n",
       "      <td>15471.0</td>\n",
       "      <td>5.1</td>\n",
       "      <td>14.9</td>\n",
       "      <td>0.3</td>\n",
       "    </tr>\n",
       "    <tr>\n",
       "      <th>2</th>\n",
       "      <td>Celery, Raw</td>\n",
       "      <td>0.04</td>\n",
       "      <td>1 Stalk</td>\n",
       "      <td>6.4</td>\n",
       "      <td>0.0</td>\n",
       "      <td>0.1</td>\n",
       "      <td>34.8</td>\n",
       "      <td>1.5</td>\n",
       "      <td>0.7</td>\n",
       "      <td>0.3</td>\n",
       "      <td>53.6</td>\n",
       "      <td>2.8</td>\n",
       "      <td>16.0</td>\n",
       "      <td>0.2</td>\n",
       "    </tr>\n",
       "    <tr>\n",
       "      <th>3</th>\n",
       "      <td>Frozen Corn</td>\n",
       "      <td>0.18</td>\n",
       "      <td>1/2 Cup</td>\n",
       "      <td>72.2</td>\n",
       "      <td>0.0</td>\n",
       "      <td>0.6</td>\n",
       "      <td>2.5</td>\n",
       "      <td>17.1</td>\n",
       "      <td>2.0</td>\n",
       "      <td>2.5</td>\n",
       "      <td>106.6</td>\n",
       "      <td>5.2</td>\n",
       "      <td>3.3</td>\n",
       "      <td>0.3</td>\n",
       "    </tr>\n",
       "    <tr>\n",
       "      <th>4</th>\n",
       "      <td>Lettuce,Iceberg,Raw</td>\n",
       "      <td>0.02</td>\n",
       "      <td>1 Leaf</td>\n",
       "      <td>2.6</td>\n",
       "      <td>0.0</td>\n",
       "      <td>0.0</td>\n",
       "      <td>1.8</td>\n",
       "      <td>0.4</td>\n",
       "      <td>0.3</td>\n",
       "      <td>0.2</td>\n",
       "      <td>66.0</td>\n",
       "      <td>0.8</td>\n",
       "      <td>3.8</td>\n",
       "      <td>0.1</td>\n",
       "    </tr>\n",
       "  </tbody>\n",
       "</table>\n",
       "</div>"
      ],
      "text/plain": [
       "                 Foods  Price/ Serving      Serving Size  Calories  \\\n",
       "0      Frozen Broccoli            0.16         10 Oz Pkg      73.8   \n",
       "1          Carrots,Raw            0.07  1/2 Cup Shredded      23.7   \n",
       "2          Celery, Raw            0.04           1 Stalk       6.4   \n",
       "3          Frozen Corn            0.18           1/2 Cup      72.2   \n",
       "4  Lettuce,Iceberg,Raw            0.02            1 Leaf       2.6   \n",
       "\n",
       "   Cholesterol mg  Total_Fat g  Sodium mg  Carbohydrates g  Dietary_Fiber g  \\\n",
       "0             0.0          0.8       68.2             13.6              8.5   \n",
       "1             0.0          0.1       19.2              5.6              1.6   \n",
       "2             0.0          0.1       34.8              1.5              0.7   \n",
       "3             0.0          0.6        2.5             17.1              2.0   \n",
       "4             0.0          0.0        1.8              0.4              0.3   \n",
       "\n",
       "   Protein g  Vit_A IU  Vit_C IU  Calcium mg  Iron mg  \n",
       "0        8.0    5867.4     160.2       159.0      2.3  \n",
       "1        0.6   15471.0       5.1        14.9      0.3  \n",
       "2        0.3      53.6       2.8        16.0      0.2  \n",
       "3        2.5     106.6       5.2         3.3      0.3  \n",
       "4        0.2      66.0       0.8         3.8      0.1  "
      ]
     },
     "execution_count": 4,
     "metadata": {},
     "output_type": "execute_result"
    }
   ],
   "source": [
    "diet = pd.read_excel(\"diet.xls\")\n",
    "diet.head()\n"
   ]
  },
  {
   "cell_type": "code",
   "execution_count": 5,
   "metadata": {},
   "outputs": [
    {
     "data": {
      "text/plain": [
       "['Frozen Broccoli',\n",
       " 'Carrots,Raw',\n",
       " 'Celery, Raw',\n",
       " 'Frozen Corn',\n",
       " 'Lettuce,Iceberg,Raw',\n",
       " 'Peppers, Sweet, Raw',\n",
       " 'Potatoes, Baked',\n",
       " 'Tofu',\n",
       " 'Roasted Chicken',\n",
       " 'Spaghetti W/ Sauce',\n",
       " 'Tomato,Red,Ripe,Raw',\n",
       " 'Apple,Raw,W/Skin',\n",
       " 'Banana',\n",
       " 'Grapes',\n",
       " 'Kiwifruit,Raw,Fresh',\n",
       " 'Oranges',\n",
       " 'Bagels',\n",
       " 'Wheat Bread',\n",
       " 'White Bread',\n",
       " 'Oatmeal Cookies',\n",
       " 'Apple Pie',\n",
       " 'Chocolate Chip Cookies',\n",
       " 'Butter,Regular',\n",
       " 'Cheddar Cheese',\n",
       " '3.3% Fat,Whole Milk',\n",
       " '2% Lowfat Milk',\n",
       " 'Skim Milk',\n",
       " 'Poached Eggs',\n",
       " 'Scrambled Eggs',\n",
       " 'Bologna,Turkey',\n",
       " 'Frankfurter, Beef',\n",
       " 'Ham,Sliced,Extralean',\n",
       " 'Kielbasa,Prk',\n",
       " \"Cap'N Crunch\",\n",
       " 'Cheerios',\n",
       " \"Corn Flks, Kellogg'S\",\n",
       " \"Raisin Brn, Kellg'S\",\n",
       " 'Rice Krispies',\n",
       " 'Special K',\n",
       " 'Oatmeal',\n",
       " 'Malt-O-Meal,Choc',\n",
       " 'Pizza W/Pepperoni',\n",
       " 'Taco',\n",
       " 'Hamburger W/Toppings',\n",
       " 'Hotdog, Plain',\n",
       " 'Couscous',\n",
       " 'White Rice',\n",
       " 'Macaroni,Ckd',\n",
       " 'Peanut Butter',\n",
       " 'Pork',\n",
       " 'Sardines in Oil',\n",
       " 'White Tuna in Water',\n",
       " 'Popcorn,Air-Popped',\n",
       " 'Potato Chips,Bbqflvr',\n",
       " 'Pretzels',\n",
       " 'Tortilla Chip',\n",
       " 'Chicknoodl Soup',\n",
       " 'Splt Pea&Hamsoup',\n",
       " 'Vegetbeef Soup',\n",
       " 'Neweng Clamchwd',\n",
       " 'Tomato Soup',\n",
       " 'New E Clamchwd,W/Mlk',\n",
       " 'Crm Mshrm Soup,W/Mlk',\n",
       " 'Beanbacn Soup,W/Watr']"
      ]
     },
     "execution_count": 5,
     "metadata": {},
     "output_type": "execute_result"
    }
   ],
   "source": [
    "# Create a list of food items\n",
    "food_items = list(diet['Foods'])\n",
    "\n",
    "# Creating dictinary for each of the supplements against food item\n",
    "costs = dict(zip(food_items,diet['Price/ Serving']))\n",
    "\n",
    "calories = dict(zip(food_items,diet['Calories']))\n",
    "\n",
    "fat = dict(zip(food_items,diet['Total_Fat g']))\n",
    "\n",
    "cholesterol = dict(zip(food_items,diet['Cholesterol mg']))\n",
    "\n",
    "carbs = dict(zip(food_items,diet['Carbohydrates g']))\n",
    "\n",
    "fiber = dict(zip(food_items,diet['Dietary_Fiber g']))\n",
    "\n",
    "sodium = dict(zip(food_items,diet['Sodium mg']))\n",
    "\n",
    "protein = dict(zip(food_items,diet['Protein g']))\n",
    "\n",
    "vit_A = dict(zip(food_items,diet['Vit_A IU']))\n",
    "\n",
    "vit_C = dict(zip(food_items,diet['Vit_C IU']))\n",
    "\n",
    "calcium = dict(zip(food_items,diet['Calcium mg']))\n",
    "\n",
    "iron = dict(zip(food_items,diet['Iron mg']))\n",
    "\n",
    "food_items"
   ]
  },
  {
   "cell_type": "markdown",
   "metadata": {},
   "source": [
    "### Declare decision variable using LpVariable class"
   ]
  },
  {
   "cell_type": "code",
   "execution_count": 6,
   "metadata": {},
   "outputs": [],
   "source": [
    "# create varaibles\n",
    "food_vars = LpVariable.dicts('food', food_items, lowBound = 0, cat='Continous')"
   ]
  },
  {
   "cell_type": "markdown",
   "metadata": {},
   "source": [
    "### objective function is the cost which we are trying to minimize"
   ]
  },
  {
   "cell_type": "code",
   "execution_count": 7,
   "metadata": {},
   "outputs": [],
   "source": [
    "#objective function si the cost which we are trying to minimize\n",
    "prob += lpSum([costs[i]*food_vars[i] for i in food_items])"
   ]
  },
  {
   "cell_type": "markdown",
   "metadata": {},
   "source": [
    "### Declare constraints each bound by minimum and maximum threshold provided"
   ]
  },
  {
   "cell_type": "code",
   "execution_count": 8,
   "metadata": {},
   "outputs": [],
   "source": [
    "#define calorie constraints\n",
    "prob += lpSum([calories[f] * food_vars[f] for f in food_items]) >= 1500, \"CalorieMinimum\"\n",
    "prob += lpSum([calories[f] * food_vars[f] for f in food_items]) <= 2500, \"CalorieMaximum\""
   ]
  },
  {
   "cell_type": "code",
   "execution_count": 9,
   "metadata": {},
   "outputs": [],
   "source": [
    "# Cholesterol\n",
    "prob += lpSum([cholesterol[f] * food_vars[f] for f in food_items]) >= 30.0\n",
    "prob += lpSum([cholesterol[f] * food_vars[f] for f in food_items]) <= 240.0"
   ]
  },
  {
   "cell_type": "code",
   "execution_count": 10,
   "metadata": {},
   "outputs": [],
   "source": [
    "# Fat\n",
    "prob += lpSum([fat[f] * food_vars[f] for f in food_items]) >= 20.0\n",
    "prob += lpSum([fat[f] * food_vars[f] for f in food_items]) <= 70.0\n",
    "\n",
    "# Sodium\n",
    "prob += lpSum([sodium[f] * food_vars[f] for f in food_items]) >= 800.0\n",
    "prob += lpSum([sodium[f] * food_vars[f] for f in food_items]) <= 2000.0\n",
    "\n",
    "# Carbs\n",
    "prob += lpSum([carbs[f] * food_vars[f] for f in food_items]) >= 130.0\n",
    "prob += lpSum([carbs[f] * food_vars[f] for f in food_items]) <= 450.0\n",
    "\n",
    "# Fiber\n",
    "prob += lpSum([fiber[f] * food_vars[f] for f in food_items]) >= 125.0\n",
    "prob += lpSum([fiber[f] * food_vars[f] for f in food_items]) <= 250.0\n",
    "\n",
    "# Protein\n",
    "prob += lpSum([protein[f] * food_vars[f] for f in food_items]) >= 60.0\n",
    "prob += lpSum([protein[f] * food_vars[f] for f in food_items]) <= 100.0\n",
    "\n",
    "# Vitamin A\n",
    "prob += lpSum([vit_A[f] * food_vars[f] for f in food_items]) >= 1000.0\n",
    "prob += lpSum([vit_A[f] * food_vars[f] for f in food_items]) <= 10000.0\n",
    "\n",
    "# Vitamin C\n",
    "prob += lpSum([vit_C[f] * food_vars[f] for f in food_items]) >= 400.0\n",
    "prob += lpSum([vit_C[f] * food_vars[f] for f in food_items]) <= 5000.0\n",
    "\n",
    "# Calcium\n",
    "prob += lpSum([calcium[f] * food_vars[f] for f in food_items]) >= 700.0\n",
    "prob += lpSum([calcium[f] * food_vars[f] for f in food_items]) <= 1500.0\n",
    "\n",
    "# Iron\n",
    "prob += lpSum([iron[f] * food_vars[f] for f in food_items]) >= 10.0\n",
    "prob += lpSum([iron[f] * food_vars[f] for f in food_items]) <= 40.0"
   ]
  },
  {
   "cell_type": "markdown",
   "metadata": {},
   "source": [
    "### solve linear prob "
   ]
  },
  {
   "cell_type": "code",
   "execution_count": 11,
   "metadata": {},
   "outputs": [
    {
     "data": {
      "text/plain": [
       "1"
      ]
     },
     "execution_count": 11,
     "metadata": {},
     "output_type": "execute_result"
    }
   ],
   "source": [
    "prob.solve()"
   ]
  },
  {
   "cell_type": "markdown",
   "metadata": {},
   "source": [
    "#### there are 5 status codes:\n",
    "\n",
    "####    Not Solved: Status prior to solving the problem.\n",
    "####    Optimal: An optimal solution has been found.\n",
    "####    Infeasible: There are no feasible solutions (e.g. if you set the constraints x <= 1 and x >=2).\n",
    "####    Unbounded: The constraints are not bounded, maximising the solution will tend towards infinity (e.g. ####    if the only constraint was x >= 3).\n",
    "####    Undefined: The optimal solution may exist but may not have been found.\n"
   ]
  },
  {
   "cell_type": "code",
   "execution_count": 12,
   "metadata": {},
   "outputs": [
    {
     "data": {
      "text/plain": [
       "'Optimal'"
      ]
     },
     "execution_count": 12,
     "metadata": {},
     "output_type": "execute_result"
    }
   ],
   "source": [
    "LpStatus[prob.status]"
   ]
  },
  {
   "cell_type": "markdown",
   "metadata": {},
   "source": [
    "## Derived optimal solution with mimium cost"
   ]
  },
  {
   "cell_type": "markdown",
   "metadata": {},
   "source": [
    "### Food items which formed part of optimal solution at minimum cost"
   ]
  },
  {
   "cell_type": "code",
   "execution_count": 13,
   "metadata": {},
   "outputs": [
    {
     "data": {
      "text/plain": [
       "[food_2%_Lowfat_Milk,\n",
       " food_3.3%_Fat,Whole_Milk,\n",
       " food_Apple,Raw,W_Skin,\n",
       " food_Apple_Pie,\n",
       " food_Bagels,\n",
       " food_Banana,\n",
       " food_Beanbacn_Soup,W_Watr,\n",
       " food_Bologna,Turkey,\n",
       " food_Butter,Regular,\n",
       " food_Cap'N_Crunch,\n",
       " food_Carrots,Raw,\n",
       " food_Celery,_Raw,\n",
       " food_Cheddar_Cheese,\n",
       " food_Cheerios,\n",
       " food_Chicknoodl_Soup,\n",
       " food_Chocolate_Chip_Cookies,\n",
       " food_Corn_Flks,_Kellogg'S,\n",
       " food_Couscous,\n",
       " food_Crm_Mshrm_Soup,W_Mlk,\n",
       " food_Frankfurter,_Beef,\n",
       " food_Frozen_Broccoli,\n",
       " food_Frozen_Corn,\n",
       " food_Grapes,\n",
       " food_Ham,Sliced,Extralean,\n",
       " food_Hamburger_W_Toppings,\n",
       " food_Hotdog,_Plain,\n",
       " food_Kielbasa,Prk,\n",
       " food_Kiwifruit,Raw,Fresh,\n",
       " food_Lettuce,Iceberg,Raw,\n",
       " food_Macaroni,Ckd,\n",
       " food_Malt_O_Meal,Choc,\n",
       " food_New_E_Clamchwd,W_Mlk,\n",
       " food_Neweng_Clamchwd,\n",
       " food_Oatmeal,\n",
       " food_Oatmeal_Cookies,\n",
       " food_Oranges,\n",
       " food_Peanut_Butter,\n",
       " food_Peppers,_Sweet,_Raw,\n",
       " food_Pizza_W_Pepperoni,\n",
       " food_Poached_Eggs,\n",
       " food_Popcorn,Air_Popped,\n",
       " food_Pork,\n",
       " food_Potato_Chips,Bbqflvr,\n",
       " food_Potatoes,_Baked,\n",
       " food_Pretzels,\n",
       " food_Raisin_Brn,_Kellg'S,\n",
       " food_Rice_Krispies,\n",
       " food_Roasted_Chicken,\n",
       " food_Sardines_in_Oil,\n",
       " food_Scrambled_Eggs,\n",
       " food_Skim_Milk,\n",
       " food_Spaghetti_W__Sauce,\n",
       " food_Special_K,\n",
       " food_Splt_Pea&Hamsoup,\n",
       " food_Taco,\n",
       " food_Tofu,\n",
       " food_Tomato,Red,Ripe,Raw,\n",
       " food_Tomato_Soup,\n",
       " food_Tortilla_Chip,\n",
       " food_Vegetbeef_Soup,\n",
       " food_Wheat_Bread,\n",
       " food_White_Bread,\n",
       " food_White_Rice,\n",
       " food_White_Tuna_in_Water]"
      ]
     },
     "execution_count": 13,
     "metadata": {},
     "output_type": "execute_result"
    }
   ],
   "source": [
    "\n",
    "prob.variables()\n"
   ]
  },
  {
   "cell_type": "markdown",
   "metadata": {},
   "source": [
    "### food item with non zero coefficients - air-popped popcorn, poached eggs, oranges, raw iceberg lettuce, raw celery, and frozen broccoli."
   ]
  },
  {
   "cell_type": "code",
   "execution_count": 14,
   "metadata": {},
   "outputs": [
    {
     "name": "stdout",
     "output_type": "stream",
     "text": [
      "food_Celery,_Raw = 52.64371\n",
      "food_Frozen_Broccoli = 0.25960653\n",
      "food_Lettuce,Iceberg,Raw = 63.988506\n",
      "food_Oranges = 2.2929389\n",
      "food_Poached_Eggs = 0.14184397\n",
      "food_Popcorn,Air_Popped = 13.869322\n"
     ]
    }
   ],
   "source": [
    "for i in prob.variables():\n",
    "    if i.varValue>0:\n",
    "        print(i.name, \"=\", i.varValue)"
   ]
  },
  {
   "cell_type": "markdown",
   "metadata": {},
   "source": [
    "### As per the solver, optimal diet includes 52.6 servings of celery, 0.25 of forzenbroccoli etc..."
   ]
  },
  {
   "cell_type": "code",
   "execution_count": 15,
   "metadata": {},
   "outputs": [
    {
     "name": "stdout",
     "output_type": "stream",
     "text": [
      "The total cost of balanced diet is: $4.34\n"
     ]
    }
   ],
   "source": [
    "print(\"The total cost of balanced diet is: ${}\".format(round(value(prob.objective),2)))"
   ]
  },
  {
   "cell_type": "code",
   "execution_count": 16,
   "metadata": {},
   "outputs": [
    {
     "data": {
      "text/plain": [
       "0.23*food_2%_Lowfat_Milk + 0.16*food_3.3%_Fat,Whole_Milk + 0.24*food_Apple,Raw,W_Skin + 0.16*food_Apple_Pie + 0.16*food_Bagels + 0.15*food_Banana + 0.67*food_Beanbacn_Soup,W_Watr + 0.15*food_Bologna,Turkey + 0.05*food_Butter,Regular + 0.31*food_Cap'N_Crunch + 0.07*food_Carrots,Raw + 0.04*food_Celery,_Raw + 0.25*food_Cheddar_Cheese + 0.28*food_Cheerios + 0.39*food_Chicknoodl_Soup + 0.03*food_Chocolate_Chip_Cookies + 0.28*food_Corn_Flks,_Kellogg'S + 0.39*food_Couscous + 0.65*food_Crm_Mshrm_Soup,W_Mlk + 0.27*food_Frankfurter,_Beef + 0.16*food_Frozen_Broccoli + 0.18*food_Frozen_Corn + 0.32*food_Grapes + 0.33*food_Ham,Sliced,Extralean + 0.83*food_Hamburger_W_Toppings + 0.31*food_Hotdog,_Plain + 0.15*food_Kielbasa,Prk + 0.49*food_Kiwifruit,Raw,Fresh + 0.02*food_Lettuce,Iceberg,Raw + 0.17*food_Macaroni,Ckd + 0.52*food_Malt_O_Meal,Choc + 0.99*food_New_E_Clamchwd,W_Mlk + 0.75*food_Neweng_Clamchwd + 0.82*food_Oatmeal + 0.09*food_Oatmeal_Cookies + 0.15*food_Oranges + 0.07*food_Peanut_Butter + 0.53*food_Peppers,_Sweet,_Raw + 0.44*food_Pizza_W_Pepperoni + 0.08*food_Poached_Eggs + 0.04*food_Popcorn,Air_Popped + 0.81*food_Pork + 0.22*food_Potato_Chips,Bbqflvr + 0.06*food_Potatoes,_Baked + 0.12*food_Pretzels + 0.34*food_Raisin_Brn,_Kellg'S + 0.32*food_Rice_Krispies + 0.84*food_Roasted_Chicken + 0.45*food_Sardines_in_Oil + 0.11*food_Scrambled_Eggs + 0.13*food_Skim_Milk + 0.78*food_Spaghetti_W__Sauce + 0.38*food_Special_K + 0.67*food_Splt_Pea&Hamsoup + 0.59*food_Taco + 0.31*food_Tofu + 0.27*food_Tomato,Red,Ripe,Raw + 0.39*food_Tomato_Soup + 0.19*food_Tortilla_Chip + 0.71*food_Vegetbeef_Soup + 0.05*food_Wheat_Bread + 0.06*food_White_Bread + 0.08*food_White_Rice + 0.69*food_White_Tuna_in_Water + 0.0"
      ]
     },
     "execution_count": 16,
     "metadata": {},
     "output_type": "execute_result"
    }
   ],
   "source": [
    "prob.objective"
   ]
  },
  {
   "cell_type": "code",
   "execution_count": null,
   "metadata": {},
   "outputs": [],
   "source": []
  },
  {
   "cell_type": "code",
   "execution_count": null,
   "metadata": {},
   "outputs": [],
   "source": []
  }
 ],
 "metadata": {
  "kernelspec": {
   "display_name": "Python 3",
   "language": "python",
   "name": "python3"
  },
  "language_info": {
   "codemirror_mode": {
    "name": "ipython",
    "version": 3
   },
   "file_extension": ".py",
   "mimetype": "text/x-python",
   "name": "python",
   "nbconvert_exporter": "python",
   "pygments_lexer": "ipython3",
   "version": "3.6.8"
  }
 },
 "nbformat": 4,
 "nbformat_minor": 2
}
